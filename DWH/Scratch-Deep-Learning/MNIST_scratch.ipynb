{
  "nbformat": 4,
  "nbformat_minor": 0,
  "metadata": {
    "colab": {
      "name": "MNIST-scratch.ipynb",
      "provenance": []
    },
    "kernelspec": {
      "name": "python3",
      "display_name": "Python 3"
    }
  },
  "cells": [
    {
      "cell_type": "code",
      "metadata": {
        "id": "bbzPf-y-jwzA",
        "colab_type": "code",
        "colab": {}
      },
      "source": [
        "import numpy as np\n",
        "from sklearn.metrics import classification_report, confusion_matrix\n",
        "import matplotlib.pyplot as plt\n",
        "%matplotlib inline"
      ],
      "execution_count": 0,
      "outputs": []
    },
    {
      "cell_type": "code",
      "metadata": {
        "id": "fe0rVsGlh9HT",
        "colab_type": "code",
        "colab": {}
      },
      "source": [
        "from sklearn.datasets import fetch_openml\n",
        "mnist = fetch_openml('mnist_784')"
      ],
      "execution_count": 0,
      "outputs": []
    },
    {
      "cell_type": "code",
      "metadata": {
        "id": "G_DvV5r1iD-Q",
        "colab_type": "code",
        "colab": {}
      },
      "source": [
        "X, y = mnist[\"data\"], mnist[\"target\"]\n",
        "digits = 10\n",
        "examples = y.shape[0]\n",
        "\n",
        "y = y.reshape(1, examples)\n",
        "\n",
        "Y_new = np.eye(digits)[y.astype('int32')]\n",
        "Y_new = Y_new.T.reshape(digits, examples)"
      ],
      "execution_count": 0,
      "outputs": []
    },
    {
      "cell_type": "code",
      "metadata": {
        "id": "_QHHP2VPiD8Z",
        "colab_type": "code",
        "colab": {}
      },
      "source": [
        "m = 60000\n",
        "m_test = X.shape[0] - m\n",
        "\n",
        "X_train, X_test = X[:m].T, X[m:].T\n",
        "Y_train, Y_test = Y_new[:,:m], Y_new[:,m:]\n",
        "\n",
        "shuffle_index = np.random.permutation(m)\n",
        "X_train, Y_train = X_train[:, shuffle_index], Y_train[:, shuffle_index]"
      ],
      "execution_count": 0,
      "outputs": []
    },
    {
      "cell_type": "code",
      "metadata": {
        "id": "_IxdKbLuiD3U",
        "colab_type": "code",
        "colab": {
          "base_uri": "https://localhost:8080/",
          "height": 265
        },
        "outputId": "82e2732e-eb3f-4386-a5f9-17810d698e74"
      },
      "source": [
        "import matplotlib\n",
        "i = 12\n",
        "plt.imshow(X_train[:,i].reshape(28,28), cmap = matplotlib.cm.binary)\n",
        "plt.axis(\"off\")\n",
        "plt.show()\n",
        "Y_train[:,i]"
      ],
      "execution_count": 11,
      "outputs": [
        {
          "output_type": "display_data",
          "data": {
            "image/png": "[encoded data removed]",
            "text/plain": [
              "<Figure size 432x288 with 1 Axes>"
            ]
          },
          "metadata": {
            "tags": []
          }
        },
        {
          "output_type": "execute_result",
          "data": {
            "text/plain": [
              "array([0., 0., 0., 1., 0., 0., 0., 0., 0., 0.])"
            ]
          },
          "metadata": {
            "tags": []
          },
          "execution_count": 11
        }
      ]
    },
    {
      "cell_type": "code",
      "metadata": {
        "id": "EssFoZ2BjhAz",
        "colab_type": "code",
        "colab": {}
      },
      "source": [
        "def sigmoid(z):\n",
        "    s = 1 / (1 + np.exp(-z))\n",
        "    return s"
      ],
      "execution_count": 0,
      "outputs": []
    },
    {
      "cell_type": "code",
      "metadata": {
        "id": "pqhQrnTLiD1S",
        "colab_type": "code",
        "colab": {}
      },
      "source": [
        "def compute_multiclass_loss(Y, Y_hat):\n",
        "\n",
        "    L_sum = np.sum(np.multiply(Y, np.log(Y_hat)))\n",
        "    m = Y.shape[1]\n",
        "    L = -(1/m) * L_sum\n",
        "\n",
        "    return L"
      ],
      "execution_count": 0,
      "outputs": []
    },
    {
      "cell_type": "code",
      "metadata": {
        "id": "7f3W5Xk3iDyq",
        "colab_type": "code",
        "colab": {
          "base_uri": "https://localhost:8080/",
          "height": 101
        },
        "outputId": "887f6ea8-0c2d-4cc0-9081-b0210cf3c466"
      },
      "source": [
        "n_x = X_train.shape[0]\n",
        "n_h = 64\n",
        "learning_rate = 1\n",
        "\n",
        "W1 = np.random.randn(n_h, n_x)\n",
        "b1 = np.zeros((n_h, 1))\n",
        "W2 = np.random.randn(digits, n_h)\n",
        "b2 = np.zeros((digits, 1))\n",
        "\n",
        "X = X_train\n",
        "Y = Y_train\n",
        "\n",
        "for i in range(200):\n",
        "\n",
        "    Z1 = np.matmul(W1,X) + b1\n",
        "    A1 = sigmoid(Z1)\n",
        "    Z2 = np.matmul(W2,A1) + b2\n",
        "    A2 = np.exp(Z2) / np.sum(np.exp(Z2), axis=0)\n",
        "\n",
        "    cost = compute_multiclass_loss(Y, A2)\n",
        "\n",
        "    dZ2 = A2-Y\n",
        "    dW2 = (1./m) * np.matmul(dZ2, A1.T)\n",
        "    db2 = (1./m) * np.sum(dZ2, axis=1, keepdims=True)\n",
        "\n",
        "    dA1 = np.matmul(W2.T, dZ2)\n",
        "    dZ1 = dA1 * sigmoid(Z1) * (1 - sigmoid(Z1))\n",
        "    dW1 = (1./m) * np.matmul(dZ1, X.T)\n",
        "    db1 = (1./m) * np.sum(dZ1, axis=1, keepdims=True)\n",
        "\n",
        "    W2 = W2 - learning_rate * dW2\n",
        "    b2 = b2 - learning_rate * db2\n",
        "    W1 = W1 - learning_rate * dW1\n",
        "    b1 = b1 - learning_rate * db1\n",
        "\n",
        "    if (i % 100 == 0):\n",
        "        print(\"Epoch\", i, \"cost: \", cost)\n",
        "\n",
        "print(\"Final cost:\", cost)"
      ],
      "execution_count": 15,
      "outputs": [
        {
          "output_type": "stream",
          "text": [
            "/usr/local/lib/python3.6/dist-packages/ipykernel_launcher.py:2: RuntimeWarning: overflow encountered in exp\n",
            "  \n"
          ],
          "name": "stderr"
        },
        {
          "output_type": "stream",
          "text": [
            "Epoch 0 cost:  8.666698304477155\n",
            "Epoch 100 cost:  0.8124938757301468\n",
            "Final cost: 0.6356162777158434\n"
          ],
          "name": "stdout"
        }
      ]
    },
    {
      "cell_type": "code",
      "metadata": {
        "id": "54uvX5ZAiDwt",
        "colab_type": "code",
        "colab": {
          "base_uri": "https://localhost:8080/",
          "height": 504
        },
        "outputId": "658d845f-41c4-4153-c1a9-c12c482de658"
      },
      "source": [
        "Z1 = np.matmul(W1, X_test) + b1\n",
        "A1 = sigmoid(Z1)\n",
        "Z2 = np.matmul(W2, A1) + b2\n",
        "A2 = np.exp(Z2) / np.sum(np.exp(Z2), axis=0)\n",
        "\n",
        "predictions = np.argmax(A2, axis=0)\n",
        "labels = np.argmax(Y_test, axis=0)\n",
        "\n",
        "print(confusion_matrix(predictions, labels))\n",
        "print(classification_report(predictions, labels))"
      ],
      "execution_count": 16,
      "outputs": [
        {
          "output_type": "stream",
          "text": [
            "[[ 850    0   29   19    3   41   13    7    9    8]\n",
            " [   0 1078   15    3    3    6    6   23   18    5]\n",
            " [  22   14  802   36    9   20   32   23   34    8]\n",
            " [  18    5   34  776    4   81    4   24   78   14]\n",
            " [   2    1   24    5  787   16   27   28   28  103]\n",
            " [  34    5    5   65   15  592   33    6   62   19]\n",
            " [  20    7   37    8   29   37  823    4   13    9]\n",
            " [  16    2   17   33   18   20    2  853   16   54]\n",
            " [  15   23   57   51   17   52   15    9  661   36]\n",
            " [   3    0   12   14   97   27    3   51   55  753]]\n",
            "              precision    recall  f1-score   support\n",
            "\n",
            "           0       0.87      0.87      0.87       979\n",
            "           1       0.95      0.93      0.94      1157\n",
            "           2       0.78      0.80      0.79      1000\n",
            "           3       0.77      0.75      0.76      1038\n",
            "           4       0.80      0.77      0.79      1021\n",
            "           5       0.66      0.71      0.69       836\n",
            "           6       0.86      0.83      0.85       987\n",
            "           7       0.83      0.83      0.83      1031\n",
            "           8       0.68      0.71      0.69       936\n",
            "           9       0.75      0.74      0.74      1015\n",
            "\n",
            "    accuracy                           0.80     10000\n",
            "   macro avg       0.79      0.79      0.79     10000\n",
            "weighted avg       0.80      0.80      0.80     10000\n",
            "\n"
          ],
          "name": "stdout"
        },
        {
          "output_type": "stream",
          "text": [
            "/usr/local/lib/python3.6/dist-packages/ipykernel_launcher.py:2: RuntimeWarning: overflow encountered in exp\n",
            "  \n"
          ],
          "name": "stderr"
        }
      ]
    }
  ]
}